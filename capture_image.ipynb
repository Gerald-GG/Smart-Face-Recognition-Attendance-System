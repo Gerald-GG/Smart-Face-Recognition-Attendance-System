{
 "cells": [
  {
   "cell_type": "code",
   "execution_count": 1,
   "metadata": {},
   "outputs": [],
   "source": [
    "import cv2\n",
    "import os\n",
    "\n",
    "# Initialize the camera\n",
    "cap = cv2.VideoCapture(0)\n",
    "\n",
    "# Create a face detection classifier\n",
    "face_cascade = cv2.CascadeClassifier(cv2.data.haarcascades + \"haarcascade_frontalface_default.xml\")\n",
    "\n",
    "# Get user input for registration number and name\n",
    "reg_no = input(\"Enter registration number: \")\n",
    "name = input(\"Enter name: \")\n",
    "\n",
    "# Create a folder to store the captured images\n",
    "folder_name = 'TrainingImages/' + reg_no + '_' + name\n",
    "if not os.path.exists(folder_name):\n",
    "    os.makedirs(folder_name)\n",
    "\n",
    "# Initialize variables for quality check\n",
    "prev_size = 0\n",
    "best_img = None\n",
    "\n",
    "# Start capturing images\n",
    "while True:\n",
    "    # Capture frame-by-frame\n",
    "    ret, frame = cap.read()\n",
    "\n",
    "    # Convert to grayscale\n",
    "    gray = cv2.cvtColor(frame, cv2.COLOR_BGR2GRAY)\n",
    "\n",
    "    # Detect faces in the image\n",
    "    faces = face_cascade.detectMultiScale(gray, scaleFactor=1.1, minNeighbors=5)\n",
    "\n",
    "    # Process the detected faces\n",
    "    for (x, y, w, h) in faces:\n",
    "        cv2.rectangle(frame, (x, y), (x + w, y + h), (0, 255, 0), 2)\n",
    "\n",
    "        # Check if this face region is clearer than the previous one\n",
    "        size = w * h\n",
    "        if size > prev_size:\n",
    "            prev_size = size\n",
    "            best_img = gray[y:y+h, x:x+w]\n",
    "\n",
    "    # Display the resulting image\n",
    "    cv2.imshow('frame', frame)\n",
    "\n",
    "    # Wait for 'q' key to exit\n",
    "    if cv2.waitKey(1) & 0xFF == ord('q'):\n",
    "        break\n",
    "\n",
    "# Save the clearest face image with registration number and name\n",
    "cv2.imwrite(folder_name + '/' + reg_no + name + '.jpg', best_img)\n",
    "\n",
    "# Release the camera and close the windows\n",
    "cap.release()\n",
    "cv2.destroyAllWindows()\n"
   ]
  }
 ],
 "metadata": {
  "kernelspec": {
   "display_name": "Python 3 (ipykernel)",
   "language": "python",
   "name": "python3"
  },
  "language_info": {
   "codemirror_mode": {
    "name": "ipython",
    "version": 3
   },
   "file_extension": ".py",
   "mimetype": "text/x-python",
   "name": "python",
   "nbconvert_exporter": "python",
   "pygments_lexer": "ipython3",
   "version": "3.9.13"
  }
 },
 "nbformat": 4,
 "nbformat_minor": 2
}
